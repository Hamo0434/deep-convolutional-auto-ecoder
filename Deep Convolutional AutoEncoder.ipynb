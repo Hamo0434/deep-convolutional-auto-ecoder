{
 "cells": [
  {
   "cell_type": "code",
   "execution_count": 22,
   "id": "cae7bde3",
   "metadata": {},
   "outputs": [],
   "source": [
    "import numpy as np \n",
    "import cv2\n",
    "import os \n",
    "from tensorflow.keras.layers import Dense , UpSampling2D , MaxPooling2D, Input ,Conv2D\n",
    "from tensorflow.keras.models import Model \n",
    "from tensorflow.keras.datasets import mnist\n"
   ]
  },
  {
   "cell_type": "code",
   "execution_count": 23,
   "id": "c91506cf",
   "metadata": {},
   "outputs": [],
   "source": [
    "(x_train , x_test), (y_train , y_test) = mnist.load_data()"
   ]
  },
  {
   "cell_type": "code",
   "execution_count": 24,
   "id": "57ee5c39",
   "metadata": {},
   "outputs": [
    {
     "name": "stdout",
     "output_type": "stream",
     "text": [
      "(60000, 28, 28)\n",
      "(10000, 28, 28)\n"
     ]
    }
   ],
   "source": [
    "x_train = x_train/255.0\n",
    "x_test = y_train/255.0\n",
    "print(x_train.shape)\n",
    "print(x_test.shape)"
   ]
  },
  {
   "cell_type": "code",
   "execution_count": 25,
   "id": "8e617f23",
   "metadata": {},
   "outputs": [
    {
     "data": {
      "text/plain": [
       "(10000, 28, 28, 1)"
      ]
     },
     "execution_count": 25,
     "metadata": {},
     "output_type": "execute_result"
    }
   ],
   "source": [
    "# reshaping the data to pass it to cnn and adding the channels\n",
    "x_train = x_train.reshape(x_train.shape[0],28 , 28 ,1)\n",
    "x_test = x_test.reshape(x_test.shape[0],28 , 28 ,1)\n",
    "x_test.shape"
   ]
  },
  {
   "cell_type": "code",
   "execution_count": 26,
   "id": "c6b88c3d",
   "metadata": {},
   "outputs": [
    {
     "name": "stdout",
     "output_type": "stream",
     "text": [
      "Model: \"The_Auto_Encoder\"\n",
      "_________________________________________________________________\n",
      " Layer (type)                Output Shape              Param #   \n",
      "=================================================================\n",
      " input_3 (InputLayer)        [(None, 28, 28, 1)]       0         \n",
      "                                                                 \n",
      " conv2d_7 (Conv2D)           (None, 28, 28, 16)        160       \n",
      "                                                                 \n",
      " max_pooling2d_3 (MaxPoolin  (None, 14, 14, 16)        0         \n",
      " g2D)                                                            \n",
      "                                                                 \n",
      " conv2d_8 (Conv2D)           (None, 14, 14, 8)         1160      \n",
      "                                                                 \n",
      " max_pooling2d_4 (MaxPoolin  (None, 7, 7, 8)           0         \n",
      " g2D)                                                            \n",
      "                                                                 \n",
      " conv2d_9 (Conv2D)           (None, 7, 7, 8)           584       \n",
      "                                                                 \n",
      " max_pooling2d_5 (MaxPoolin  (None, 4, 4, 8)           0         \n",
      " g2D)                                                            \n",
      "                                                                 \n",
      " conv2d_10 (Conv2D)          (None, 4, 4, 8)           584       \n",
      "                                                                 \n",
      " up_sampling2d_3 (UpSamplin  (None, 8, 8, 8)           0         \n",
      " g2D)                                                            \n",
      "                                                                 \n",
      " conv2d_11 (Conv2D)          (None, 8, 8, 8)           584       \n",
      "                                                                 \n",
      " up_sampling2d_4 (UpSamplin  (None, 16, 16, 8)         0         \n",
      " g2D)                                                            \n",
      "                                                                 \n",
      " conv2d_12 (Conv2D)          (None, 14, 14, 16)        1168      \n",
      "                                                                 \n",
      " up_sampling2d_5 (UpSamplin  (None, 28, 28, 16)        0         \n",
      " g2D)                                                            \n",
      "                                                                 \n",
      " conv2d_13 (Conv2D)          (None, 28, 28, 1)         145       \n",
      "                                                                 \n",
      "=================================================================\n",
      "Total params: 4385 (17.13 KB)\n",
      "Trainable params: 4385 (17.13 KB)\n",
      "Non-trainable params: 0 (0.00 Byte)\n",
      "_________________________________________________________________\n"
     ]
    }
   ],
   "source": [
    "input_layer = Input(shape = (28,28,1))\n",
    "# encoder  => here we did downsampling\n",
    "x = Conv2D(16 , (3,3) , activation= 'relu' , padding = 'same')(input_layer)\n",
    "x = MaxPooling2D(pool_size = (2,2),padding = 'same')(x)\n",
    "x = Conv2D(8 , (3,3) , activation= 'relu' , padding = 'same')(x)\n",
    "x = MaxPooling2D(pool_size = (2,2),padding = 'same')(x)\n",
    "x = Conv2D(8 , (3,3) , activation= 'relu' , padding = 'same')(x)\n",
    "encoded = MaxPooling2D(pool_size = (2,2),padding = 'same')(x)\n",
    "\n",
    "# decoder  => here is upsampling \n",
    "x = Conv2D(8 , (3,3) , activation= 'relu' , padding = 'same')(encoded)\n",
    "x = UpSampling2D((2,2))(x)\n",
    "x = Conv2D(8 , (3,3) , activation= 'relu' , padding = 'same')(x)\n",
    "x = UpSampling2D((2,2))(x)\n",
    "x = Conv2D(16 , (3,3) , activation= 'relu' )(x)\n",
    "x = UpSampling2D((2,2))(x)\n",
    "decoded = Conv2D(1 , (3,3) , activation = 'relu' , padding = 'same')(x)\n",
    "\n",
    "\n",
    "auto_encoder = Model(input_layer , decoded  ,name = 'The_Auto_Encoder')\n",
    "auto_encoder.summary()"
   ]
  },
  {
   "cell_type": "code",
   "execution_count": 30,
   "id": "fd18b70b",
   "metadata": {},
   "outputs": [
    {
     "name": "stdout",
     "output_type": "stream",
     "text": [
      "Epoch 1/20\n",
      "469/469 [==============================] - 33s 69ms/step - loss: 0.2473 - accuracy: 0.7933 - val_loss: 0.1905 - val_accuracy: 0.7926\n",
      "Epoch 2/20\n",
      "469/469 [==============================] - 31s 67ms/step - loss: 0.1849 - accuracy: 0.7969 - val_loss: 0.1767 - val_accuracy: 0.7967\n",
      "Epoch 3/20\n",
      "469/469 [==============================] - 32s 67ms/step - loss: 0.1752 - accuracy: 0.7996 - val_loss: 0.1689 - val_accuracy: 0.8038\n",
      "Epoch 4/20\n",
      "469/469 [==============================] - 32s 67ms/step - loss: 0.1894 - accuracy: 0.7991 - val_loss: 0.1735 - val_accuracy: 0.7967\n",
      "Epoch 5/20\n",
      "469/469 [==============================] - 32s 67ms/step - loss: 0.1759 - accuracy: 0.7997 - val_loss: 0.1653 - val_accuracy: 0.7978\n",
      "Epoch 6/20\n",
      "469/469 [==============================] - 32s 67ms/step - loss: 0.1653 - accuracy: 0.8012 - val_loss: 0.1591 - val_accuracy: 0.8004\n",
      "Epoch 7/20\n",
      "469/469 [==============================] - 32s 68ms/step - loss: 0.1561 - accuracy: 0.8032 - val_loss: 0.1618 - val_accuracy: 0.8082\n",
      "Epoch 8/20\n",
      "469/469 [==============================] - 32s 68ms/step - loss: 0.1539 - accuracy: 0.8039 - val_loss: 0.1598 - val_accuracy: 0.8003\n",
      "Epoch 9/20\n",
      "469/469 [==============================] - 32s 68ms/step - loss: 0.1513 - accuracy: 0.8046 - val_loss: 0.1489 - val_accuracy: 0.8081\n",
      "Epoch 10/20\n",
      "469/469 [==============================] - 33s 69ms/step - loss: 0.1577 - accuracy: 0.8034 - val_loss: 0.1617 - val_accuracy: 0.8055\n",
      "Epoch 11/20\n",
      "469/469 [==============================] - 32s 68ms/step - loss: 0.1644 - accuracy: 0.8032 - val_loss: 0.1731 - val_accuracy: 0.7963\n",
      "Epoch 12/20\n",
      "469/469 [==============================] - 32s 68ms/step - loss: 0.1810 - accuracy: 0.7995 - val_loss: 0.1649 - val_accuracy: 0.8017\n"
     ]
    }
   ],
   "source": [
    "from tensorflow.keras.callbacks import EarlyStopping\n",
    "callbacks = EarlyStopping(patience = 3)\n",
    "auto_encoder.compile(loss = 'binary_crossentropy', optimizer = 'adam',metrics = ['accuracy']) \n",
    "# we here working in unsupervised learning so we passed the x_train to the model to give me the output like the input \n",
    "history=auto_encoder.fit(x_train , x_train , epochs = 20 , \n",
    "                         batch_size = 128 , \n",
    "                         validation_data = (x_test ,x_test),\n",
    "                        callbacks = [callbacks])"
   ]
  },
  {
   "cell_type": "code",
   "execution_count": 8,
   "id": "257bc65b",
   "metadata": {},
   "outputs": [
    {
     "data": {
      "text/plain": [
       "[<matplotlib.lines.Line2D at 0x220d30fc9d0>]"
      ]
     },
     "execution_count": 8,
     "metadata": {},
     "output_type": "execute_result"
    },
    {
     "data": {
      "image/png": "[encoded data removed]",
      "text/plain": [
       "<Figure size 640x480 with 1 Axes>"
      ]
     },
     "metadata": {},
     "output_type": "display_data"
    }
   ],
   "source": [
    "import matplotlib.pyplot as plt \n",
    "plt.plot(history.history['loss'])"
   ]
  },
  {
   "cell_type": "code",
   "execution_count": 31,
   "id": "b66e188f",
   "metadata": {},
   "outputs": [
    {
     "name": "stdout",
     "output_type": "stream",
     "text": [
      "Model: \"model\"\n",
      "_________________________________________________________________\n",
      " Layer (type)                Output Shape              Param #   \n",
      "=================================================================\n",
      " input_3 (InputLayer)        [(None, 28, 28, 1)]       0         \n",
      "                                                                 \n",
      " conv2d_7 (Conv2D)           (None, 28, 28, 16)        160       \n",
      "                                                                 \n",
      " max_pooling2d_3 (MaxPoolin  (None, 14, 14, 16)        0         \n",
      " g2D)                                                            \n",
      "                                                                 \n",
      " conv2d_8 (Conv2D)           (None, 14, 14, 8)         1160      \n",
      "                                                                 \n",
      " max_pooling2d_4 (MaxPoolin  (None, 7, 7, 8)           0         \n",
      " g2D)                                                            \n",
      "                                                                 \n",
      " conv2d_9 (Conv2D)           (None, 7, 7, 8)           584       \n",
      "                                                                 \n",
      " max_pooling2d_5 (MaxPoolin  (None, 4, 4, 8)           0         \n",
      " g2D)                                                            \n",
      "                                                                 \n",
      "=================================================================\n",
      "Total params: 1904 (7.44 KB)\n",
      "Trainable params: 1904 (7.44 KB)\n",
      "Non-trainable params: 0 (0.00 Byte)\n",
      "_________________________________________________________________\n"
     ]
    }
   ],
   "source": [
    "# separate the encoder\n",
    "encoder= Model(input_layer , encoded )\n",
    "encoder.summary()"
   ]
  },
  {
   "cell_type": "code",
   "execution_count": 34,
   "id": "debe56cf",
   "metadata": {},
   "outputs": [
    {
     "name": "stdout",
     "output_type": "stream",
     "text": [
      "Model: \"model_1\"\n",
      "_________________________________________________________________\n",
      " Layer (type)                Output Shape              Param #   \n",
      "=================================================================\n",
      " input_5 (InputLayer)        [(None, 4, 4, 8)]         0         \n",
      "                                                                 \n",
      " conv2d_10 (Conv2D)          (None, 4, 4, 8)           584       \n",
      "                                                                 \n",
      " up_sampling2d_3 (UpSamplin  (None, 8, 8, 8)           0         \n",
      " g2D)                                                            \n",
      "                                                                 \n",
      " conv2d_11 (Conv2D)          (None, 8, 8, 8)           584       \n",
      "                                                                 \n",
      " up_sampling2d_4 (UpSamplin  (None, 16, 16, 8)         0         \n",
      " g2D)                                                            \n",
      "                                                                 \n",
      " conv2d_12 (Conv2D)          (None, 14, 14, 16)        1168      \n",
      "                                                                 \n",
      " up_sampling2d_5 (UpSamplin  (None, 28, 28, 16)        0         \n",
      " g2D)                                                            \n",
      "                                                                 \n",
      " conv2d_13 (Conv2D)          (None, 28, 28, 1)         145       \n",
      "                                                                 \n",
      "=================================================================\n",
      "Total params: 2481 (9.69 KB)\n",
      "Trainable params: 2481 (9.69 KB)\n",
      "Non-trainable params: 0 (0.00 Byte)\n",
      "_________________________________________________________________\n"
     ]
    }
   ],
   "source": [
    "# separate the decoder\n",
    "decoder_layer = Input(shape = (4,4,8))\n",
    "decoder = auto_encoder.layers[7](decoder_layer)\n",
    "\n",
    "for layer in auto_encoder.layers[8:]:\n",
    "    decoder = layer(decoder)\n",
    "decoder = Model(decoder_layer,decoder )\n",
    "decoder.summary()"
   ]
  },
  {
   "cell_type": "code",
   "execution_count": 35,
   "id": "ef96701d",
   "metadata": {},
   "outputs": [
    {
     "name": "stdout",
     "output_type": "stream",
     "text": [
      "313/313 [==============================] - 1s 4ms/step\n"
     ]
    },
    {
     "data": {
      "text/plain": [
       "(10000, 4, 4, 8)"
      ]
     },
     "execution_count": 35,
     "metadata": {},
     "output_type": "execute_result"
    }
   ],
   "source": [
    "encoded_images = encoder.predict(x_test)\n",
    "encoded_images.shape"
   ]
  },
  {
   "cell_type": "code",
   "execution_count": 36,
   "id": "7ea68188",
   "metadata": {},
   "outputs": [
    {
     "name": "stdout",
     "output_type": "stream",
     "text": [
      "313/313 [==============================] - 2s 8ms/step\n"
     ]
    },
    {
     "data": {
      "text/plain": [
       "(10000, 28, 28, 1)"
      ]
     },
     "execution_count": 36,
     "metadata": {},
     "output_type": "execute_result"
    }
   ],
   "source": [
    "decoded_images = decoder.predict(encoded_images)\n",
    "decoded_images.shape"
   ]
  },
  {
   "cell_type": "code",
   "execution_count": 38,
   "id": "2e3d3615",
   "metadata": {},
   "outputs": [
    {
     "data": {
      "text/plain": [
       "(10000, 28, 28)"
      ]
     },
     "execution_count": 38,
     "metadata": {},
     "output_type": "execute_result"
    }
   ],
   "source": [
    "decoded_images = decoded_images.reshape(decoded_images.shape[0],28,28)\n",
    "decoded_images.shape"
   ]
  },
  {
   "cell_type": "code",
   "execution_count": 44,
   "id": "ab90c978",
   "metadata": {},
   "outputs": [
    {
     "data": {
      "text/plain": [
       "(-0.5, 27.5, 27.5, -0.5)"
      ]
     },
     "execution_count": 44,
     "metadata": {},
     "output_type": "execute_result"
    },
    {
     "data": {
      "image/png": "[encoded data removed]",
      "text/plain": [
       "<Figure size 640x480 with 2 Axes>"
      ]
     },
     "metadata": {},
     "output_type": "display_data"
    }
   ],
   "source": [
    "plt.subplot(121)\n",
    "plt.imshow(x_test[0])\n",
    "plt.axis('off')\n",
    "plt.subplot(122)\n",
    "plt.imshow(decoded_images[0])\n",
    "plt.axis('off')"
   ]
  },
  {
   "cell_type": "code",
   "execution_count": null,
   "id": "7e4e9f71",
   "metadata": {},
   "outputs": [],
   "source": []
  }
 ],
 "metadata": {
  "kernelspec": {
   "display_name": "Python 3 (ipykernel)",
   "language": "python",
   "name": "python3"
  },
  "language_info": {
   "codemirror_mode": {
    "name": "ipython",
    "version": 3
   },
   "file_extension": ".py",
   "mimetype": "text/x-python",
   "name": "python",
   "nbconvert_exporter": "python",
   "pygments_lexer": "ipython3",
   "version": "3.9.13"
  }
 },
 "nbformat": 4,
 "nbformat_minor": 5
}
